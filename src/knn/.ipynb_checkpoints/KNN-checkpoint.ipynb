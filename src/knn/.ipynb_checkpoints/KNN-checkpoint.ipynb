{
 "cells": [
  {
   "cell_type": "markdown",
   "metadata": {},
   "source": [
    "# Bài toán tính khoảng cách\n",
    "\n",
    "## Từ 1 điểm đến 1 điểm \n",
    "\n"
   ]
  },
  {
   "cell_type": "code",
   "execution_count": null,
   "metadata": {
    "collapsed": true
   },
   "outputs": [],
   "source": [
    "from __future__ import print_function \n",
    "import numpy as np \n",
    "from time import time \n",
    "\n",
    "def dist_pp(z, x):\n",
    "    d = z - x.reshape(z.shape) \n",
    "    return np.sum(d*d)\n",
    "\n",
    "# from one point to a set, naive \n",
    "def dist_ps_naive(z, X):\n",
    "    N = X.shape[0]\n",
    "    res = np.zeros((1, N)) \n",
    "    for i in range(N):\n",
    "        res[0][i] = dist_pp(z, X[i])\n",
    "    return res "
   ]
  },
  {
   "cell_type": "code",
   "execution_count": 2,
   "metadata": {},
   "outputs": [
    {
     "name": "stdout",
     "output_type": "stream",
     "text": [
      "0.103470802307 s\n"
     ]
    }
   ],
   "source": [
    "d = 1000\n",
    "N = 10000\n",
    "X = np.random.randn(N, d)\n",
    "z = np.random.randn(d) \n",
    "t1 = time() \n",
    "D1 = dist_ps_naive(z, X)\n",
    "t2 = time() \n",
    "print(t2 - t1, 's')\n"
   ]
  },
  {
   "cell_type": "code",
   "execution_count": 3,
   "metadata": {},
   "outputs": [
    {
     "name": "stdout",
     "output_type": "stream",
     "text": [
      "0.0944180488586 s\n"
     ]
    }
   ],
   "source": [
    "def dist_ps_fast(z, X):\n",
    "    X2 = np.sum(X*X, 1)\n",
    "    z2 = np.sum(z*z) \n",
    "    return X2 + z2 - 2*X.dot(z)\n",
    "\n",
    "t1 = time() \n",
    "D2 = dist_ps_fast(z, X)\n",
    "t2 = time() \n",
    "print(t2 - t1, 's')"
   ]
  },
  {
   "cell_type": "code",
   "execution_count": 4,
   "metadata": {},
   "outputs": [
    {
     "data": {
      "text/plain": [
       "2.4401125889461048e-11"
      ]
     },
     "execution_count": 4,
     "metadata": {},
     "output_type": "execute_result"
    }
   ],
   "source": [
    "np.linalg.norm(D1 - D2.reshape(D1.shape))"
   ]
  },
  {
   "cell_type": "code",
   "execution_count": 5,
   "metadata": {
    "collapsed": true
   },
   "outputs": [],
   "source": [
    "M = 100 \n",
    "Z = np.random.randn(M, d)"
   ]
  },
  {
   "cell_type": "code",
   "execution_count": 6,
   "metadata": {},
   "outputs": [
    {
     "name": "stdout",
     "output_type": "stream",
     "text": [
      "4.40278792381 s\n"
     ]
    }
   ],
   "source": [
    "def dist_ss_0(Z, X):\n",
    "    M = Z.shape[0]\n",
    "    N = X.shape[0]\n",
    "    res = np.zeros((M, N))\n",
    "    for i in range(M):\n",
    "        res[i] = dist_ps_fast(Z[i], X)\n",
    "    return res \n",
    "\n",
    "t1 = time() \n",
    "D3 = dist_ss_0(Z, X)\n",
    "t2 = time() \n",
    "print(t2 - t1, 's')"
   ]
  },
  {
   "cell_type": "code",
   "execution_count": 7,
   "metadata": {},
   "outputs": [
    {
     "name": "stdout",
     "output_type": "stream",
     "text": [
      "0.088917016983 s\n"
     ]
    }
   ],
   "source": [
    "def dist_ss_fast(Z, X):\n",
    "    M = Z.shape[0]\n",
    "    N = X.shape[0]\n",
    "    X2 = np.sum(X*X, 1)\n",
    "    Z2 = np.sum(Z*Z, 1) \n",
    "    return Z2.reshape(-1, 1) + X2.reshape(1, -1) - 2*Z.dot(X.T)\n",
    "\n",
    "t1 = time() \n",
    "D4 = dist_ss_fast(Z, X)\n",
    "t2 = time() \n",
    "print(t2 - t1, 's')"
   ]
  },
  {
   "cell_type": "code",
   "execution_count": 8,
   "metadata": {},
   "outputs": [
    {
     "data": {
      "text/plain": [
       "9.951982398304065e-11"
      ]
     },
     "execution_count": 8,
     "metadata": {},
     "output_type": "execute_result"
    }
   ],
   "source": [
    "np.linalg.norm(D3 - D4)"
   ]
  },
  {
   "cell_type": "code",
   "execution_count": null,
   "metadata": {
    "collapsed": true
   },
   "outputs": [],
   "source": [
    "from scipy.spatial.distance import cdist"
   ]
  },
  {
   "cell_type": "code",
   "execution_count": 19,
   "metadata": {},
   "outputs": [
    {
     "name": "stdout",
     "output_type": "stream",
     "text": [
      "1.00784802437 s\n",
      "1.6099658837e-09\n"
     ]
    }
   ],
   "source": [
    "t1 = time() \n",
    "D5 = cdist(Z, X)**2\n",
    "t2 = time() \n",
    "print(t2 - t1, 's')\n",
    "print(np.linalg.norm(D4 - D5))"
   ]
  },
  {
   "cell_type": "code",
   "execution_count": 16,
   "metadata": {},
   "outputs": [
    {
     "name": "stdout",
     "output_type": "stream",
     "text": [
      "[[ 1999.21701197  1930.44523721  1897.46448685  2088.1498646 ]\n",
      " [ 1998.07537947  1968.89287678  1846.6459458   1931.02711214]\n",
      " [ 1939.87540623  2144.80316592  2023.74594247  2125.19744273]\n",
      " [ 1961.25226254  2089.18918027  1967.98818552  1881.23373662]]\n",
      "[[ 1999.21701197  1930.44523721  1897.46448685  2088.1498646 ]\n",
      " [ 1998.07537947  1968.89287678  1846.6459458   1931.02711214]\n",
      " [ 1939.87540623  2144.80316592  2023.74594247  2125.19744273]\n",
      " [ 1961.25226254  2089.18918027  1967.98818552  1881.23373662]]\n"
     ]
    }
   ],
   "source": [
    "print(D4[:4, :4])\n",
    "print(D5[:4, :4])"
   ]
  },
  {
   "cell_type": "code",
   "execution_count": 17,
   "metadata": {},
   "outputs": [
    {
     "name": "stdout",
     "output_type": "stream",
     "text": [
      "(100, 10000)\n",
      "(100, 10000)\n"
     ]
    }
   ],
   "source": [
    "print(D4.shape)\n",
    "print(D5.shape)"
   ]
  },
  {
   "cell_type": "code",
   "execution_count": null,
   "metadata": {
    "collapsed": true
   },
   "outputs": [],
   "source": [
    "d = 1000\n",
    "N = 1000\n",
    "M = 1000\n",
    "X = np.random.randn(N, d)\n",
    "Z = np.random.randn(M, d) \n",
    "t1 = time()\n",
    "D0 = cdist(Z, X)\n",
    "t2 = time() \n",
    "\n",
    "print(t1 - t2, 's')\n",
    "\n",
    "t1 = time() \n",
    "D1 = dist_ss_fast(Z, X)\n",
    "t2 = time() \n",
    "print(t1 - t2, 's')"
   ]
  },
  {
   "cell_type": "code",
   "execution_count": null,
   "metadata": {
    "collapsed": true
   },
   "outputs": [],
   "source": []
  }
 ],
 "metadata": {
  "kernelspec": {
   "display_name": "Python 2",
   "language": "python",
   "name": "python2"
  },
  "language_info": {
   "codemirror_mode": {
    "name": "ipython",
    "version": 2
   },
   "file_extension": ".py",
   "mimetype": "text/x-python",
   "name": "python",
   "nbconvert_exporter": "python",
   "pygments_lexer": "ipython2",
   "version": "2.7.13"
  }
 },
 "nbformat": 4,
 "nbformat_minor": 2
}
