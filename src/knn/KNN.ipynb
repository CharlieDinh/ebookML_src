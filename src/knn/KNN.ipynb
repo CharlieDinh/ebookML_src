{
 "cells": [
  {
   "cell_type": "markdown",
   "metadata": {},
   "source": [
    "# Bài toán tính khoảng cách\n",
    "\n",
    "## Từ 1 điểm đến 1 điểm \n",
    "\n"
   ]
  },
  {
   "cell_type": "code",
   "execution_count": 21,
   "metadata": {
    "collapsed": true
   },
   "outputs": [],
   "source": [
    "from __future__ import print_function \n",
    "import numpy as np \n",
    "from time import time \n",
    "d = 1000\n",
    "N = 10000\n",
    "X = np.random.randn(N, d)\n",
    "z = np.random.randn(d) "
   ]
  },
  {
   "cell_type": "code",
   "execution_count": 30,
   "metadata": {},
   "outputs": [
    {
     "name": "stdout",
     "output_type": "stream",
     "text": [
      "naive point2set, running time: 0.0932548046112 s\n",
      "fast point2set , running time: 0.0514178276062 s\n",
      "Result difference: 2.11481965531e-11\n"
     ]
    }
   ],
   "source": [
    "# naively compute square distance between two vector \n",
    "def dist_pp(z, x): \n",
    "    d = z - x.reshape(z.shape) # force x and z to have the same dims \n",
    "    return np.sum(d*d)\n",
    "\n",
    "# from one point to each point in a set, naive \n",
    "def dist_ps_naive(z, X):\n",
    "    N = X.shape[0]\n",
    "    res = np.zeros((1, N)) \n",
    "    for i in range(N):\n",
    "        res[0][i] = dist_pp(z, X[i])\n",
    "    return res \n",
    "\n",
    "# from one point to each point in a set, fast\n",
    "def dist_ps_fast(z, X):\n",
    "    X2 = np.sum(X*X, 1)\n",
    "    z2 = np.sum(z*z) \n",
    "    return X2 + z2 - 2*X.dot(z)\n",
    "\n",
    "t1 = time() \n",
    "D1 = dist_ps_naive(z, X)\n",
    "print('naive point2set, running time:', time() - t1, 's')\n",
    "\n",
    "t1 = time() \n",
    "D2 = dist_ps_fast(z, X)\n",
    "print('fast point2set , running time:', time() - t1, 's')\n",
    "print('Result difference:', np.linalg.norm(D1 - D2))"
   ]
  },
  {
   "cell_type": "code",
   "execution_count": 27,
   "metadata": {},
   "outputs": [
    {
     "name": "stdout",
     "output_type": "stream",
     "text": [
      "half fast set2set running time: 4.40875887871 s\n"
     ]
    }
   ],
   "source": [
    "M = 100 \n",
    "Z = np.random.randn(M, d)\n",
    "\n",
    "# from each point in one set to each point in another set, half fast \n",
    "def dist_ss_0(Z, X):\n",
    "    M = Z.shape[0]\n",
    "    N = X.shape[0]\n",
    "    res = np.zeros((M, N))\n",
    "    for i in range(M):\n",
    "        res[i] = dist_ps_fast(Z[i], X)\n",
    "    return res \n",
    "\n",
    "t1 = time() \n",
    "D3 = dist_ss_0(Z, X)\n",
    "print('half fast set2set running time:', time() - t1, 's')"
   ]
  },
  {
   "cell_type": "code",
   "execution_count": 28,
   "metadata": {},
   "outputs": [
    {
     "name": "stdout",
     "output_type": "stream",
     "text": [
      "fast set2set running time 0.0803899765015 s\n",
      "Result difference: 1.00152619557e-10\n"
     ]
    }
   ],
   "source": [
    "# from each point in one set to each point in another set, fast \n",
    "def dist_ss_fast(Z, X):\n",
    "    M = Z.shape[0]\n",
    "    N = X.shape[0]\n",
    "    X2 = np.sum(X*X, 1)\n",
    "    Z2 = np.sum(Z*Z, 1) \n",
    "    return Z2.reshape(-1, 1) + X2.reshape(1, -1) - 2*Z.dot(X.T)\n",
    "\n",
    "t1 = time() \n",
    "D4 = dist_ss_fast(Z, X)\n",
    "print('fast set2set running time', time() - t1, 's')\n",
    "print('Result difference:', np.linalg.norm(D3 - D4))"
   ]
  },
  {
   "cell_type": "code",
   "execution_count": 8,
   "metadata": {},
   "outputs": [
    {
     "data": {
      "text/plain": [
       "9.9603685043432538e-11"
      ]
     },
     "execution_count": 8,
     "metadata": {},
     "output_type": "execute_result"
    }
   ],
   "source": [
    "np.linalg.norm(D3 - D4)"
   ]
  },
  {
   "cell_type": "code",
   "execution_count": 9,
   "metadata": {
    "collapsed": true
   },
   "outputs": [],
   "source": [
    "from scipy.spatial.distance import cdist"
   ]
  },
  {
   "cell_type": "code",
   "execution_count": 10,
   "metadata": {},
   "outputs": [
    {
     "name": "stdout",
     "output_type": "stream",
     "text": [
      "1.04471111298 s\n",
      "1.60346245422e-09\n"
     ]
    }
   ],
   "source": [
    "t1 = time() \n",
    "D5 = cdist(Z, X)**2\n",
    "t2 = time() \n",
    "print(t2 - t1, 's')\n",
    "print(np.linalg.norm(D4 - D5))"
   ]
  },
  {
   "cell_type": "code",
   "execution_count": 19,
   "metadata": {},
   "outputs": [
    {
     "name": "stdout",
     "output_type": "stream",
     "text": [
      "15.1540310383 s\n",
      "196.752103806 s\n"
     ]
    }
   ],
   "source": [
    "d = 10\n",
    "N = 100000\n",
    "M = 10000\n",
    "X = np.random.randn(N, d)\n",
    "Z = np.random.randn(M, d) \n",
    "t1 = time()\n",
    "D0 = cdist(Z, X)\n",
    "t2 = time() \n",
    "\n",
    "print(t2 - t1, 's')\n",
    "\n",
    "t1 = time() \n",
    "D1 = dist_ss_fast(Z, X)\n",
    "t2 = time() \n",
    "print(t2 - t1, 's')"
   ]
  },
  {
   "cell_type": "code",
   "execution_count": 20,
   "metadata": {},
   "outputs": [
    {
     "data": {
      "text/plain": [
       "1.3117007143439562e-10"
      ]
     },
     "execution_count": 20,
     "metadata": {},
     "output_type": "execute_result"
    }
   ],
   "source": [
    "np.linalg.norm(D0**2 - D1)"
   ]
  },
  {
   "cell_type": "code",
   "execution_count": null,
   "metadata": {
    "collapsed": true
   },
   "outputs": [],
   "source": []
  }
 ],
 "metadata": {
  "kernelspec": {
   "display_name": "Python 2",
   "language": "python",
   "name": "python2"
  },
  "language_info": {
   "codemirror_mode": {
    "name": "ipython",
    "version": 2
   },
   "file_extension": ".py",
   "mimetype": "text/x-python",
   "name": "python",
   "nbconvert_exporter": "python",
   "pygments_lexer": "ipython2",
   "version": "2.7.13"
  }
 },
 "nbformat": 4,
 "nbformat_minor": 2
}
