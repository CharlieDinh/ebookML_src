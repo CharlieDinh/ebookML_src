{
 "cells": [
  {
   "cell_type": "code",
   "execution_count": 2,
   "metadata": {},
   "outputs": [
    {
     "data": {
      "image/png": "[encoded data removed]",
      "text/plain": [
       "<matplotlib.figure.Figure at 0x7f4184169650>"
      ]
     },
     "metadata": {},
     "output_type": "display_data"
    }
   ],
   "source": [
    "# generate data\n",
    "# list of points \n",
    "import numpy as np \n",
    "import matplotlib.pyplot as plt\n",
    "from scipy.spatial.distance import cdist\n",
    "np.random.seed(22)\n",
    "\n",
    "means = [[2, 2], [4, 2]]\n",
    "cov = [[.3, .2], [.2, .3]]\n",
    "N = 10\n",
    "X0 = np.random.multivariate_normal(means[0], cov, N).T\n",
    "X1 = np.random.multivariate_normal(means[1], cov, N).T\n",
    "\n",
    "plt.plot(X0[0, :], X0[1, :], 'bs', markersize = 8, alpha = .8)\n",
    "plt.plot(X1[0, :], X1[1, :], 'ro', markersize = 8, alpha = .8)\n",
    "plt.axis('equal')\n",
    "plt.ylim(0, 3)\n",
    "plt.xlim(2, 4)\n",
    "\n",
    "# hide tikcs \n",
    "cur_axes = plt.gca()\n",
    "cur_axes.axes.get_xaxis().set_ticks([])\n",
    "cur_axes.axes.get_yaxis().set_ticks([])\n",
    "\n",
    "plt.xlabel('$x_1$', fontsize = 20)\n",
    "plt.ylabel('$x_2$', fontsize = 20)\n",
    "plt.show()\n"
   ]
  },
  {
   "cell_type": "code",
   "execution_count": 4,
   "metadata": {},
   "outputs": [
    {
     "name": "stdout",
     "output_type": "stream",
     "text": [
      "(1, 20)\n"
     ]
    }
   ],
   "source": [
    "X = np.concatenate((X0, X1), axis = 1)\n",
    "y = np.concatenate((np.ones((1, N)), -1*np.ones((1, N))), axis = 1)\n",
    "# Xbar \n",
    "X = np.concatenate((np.ones((1, 2*N)), X), axis = 0)\n",
    "print(y.shape)"
   ]
  },
  {
   "cell_type": "code",
   "execution_count": 7,
   "metadata": {},
   "outputs": [
    {
     "name": "stdout",
     "output_type": "stream",
     "text": [
      "[array([[ 0.39958854],\n",
      "       [ 0.24434092],\n",
      "       [-1.20457594]]), array([[ 1.39958854],\n",
      "       [ 2.61753104],\n",
      "       [ 0.51418386]]), array([[ 0.39958854],\n",
      "       [-0.68966836],\n",
      "       [ 0.32055991]]), array([[ 1.39958854],\n",
      "       [ 1.12264321],\n",
      "       [ 1.88175488]]), array([[ 0.39958854],\n",
      "       [-3.12496544],\n",
      "       [-0.51671009]]), array([[ 1.39958854],\n",
      "       [-0.83183677],\n",
      "       [ 2.2486638 ]]), array([[ 0.39958854],\n",
      "       [-4.52603781],\n",
      "       [ 0.30592394]]), array([[ 1.39958854],\n",
      "       [-2.48886426],\n",
      "       [ 2.23989526]]), array([[ 2.39958854],\n",
      "       [-0.01918486],\n",
      "       [ 4.261345  ]]), array([[ 1.39958854],\n",
      "       [-3.35513977],\n",
      "       [ 2.64402863]]), array([[ 2.39958854],\n",
      "       [-0.88546036],\n",
      "       [ 4.66547837]]), array([[ 1.39958854],\n",
      "       [-4.57966141],\n",
      "       [ 2.7227385 ]]), array([[ 2.39958854],\n",
      "       [-3.06704251],\n",
      "       [ 4.12832793]])]\n"
     ]
    }
   ],
   "source": [
    "\n",
    "def h(w, x):    \n",
    "    return np.sign(np.dot(w.T, x))\n",
    "\n",
    "def has_converged(X, y, w):\n",
    "    return np.array_equal(h(w, X), y) #True if h(w, X) == y else False\n",
    "\n",
    "def perceptron(X, y, w_init):\n",
    "    w = [w_init]\n",
    "    N = X.shape[1]\n",
    "    mis_points = []\n",
    "    while True:\n",
    "        # mix data \n",
    "        mix_id = np.random.permutation(N)\n",
    "        for i in range(N):\n",
    "            xi = X[:, mix_id[i]].reshape(3, 1)\n",
    "            yi = y[0, mix_id[i]]\n",
    "            if h(w[-1], xi)[0] != yi:\n",
    "                mis_points.append(mix_id[i])\n",
    "                w_new = w[-1] + yi*xi \n",
    "\n",
    "                w.append(w_new)\n",
    "                \n",
    "        if has_converged(X, y, w[-1]):\n",
    "            break\n",
    "    return (w, mis_points)\n",
    "\n",
    "\n",
    "d = X.shape[0]\n",
    "w_init = np.random.randn(d, 1)\n",
    "(w, mis_points) = perceptron(X, y, w_init)\n",
    "print(w)"
   ]
  },
  {
   "cell_type": "code",
   "execution_count": 14,
   "metadata": {},
   "outputs": [
    {
     "name": "stdout",
     "output_type": "stream",
     "text": [
      "[7, 10, 0, 18, 3, 6, 14, 9, 7, 17, 0, 19, 3, 2, 12, 6, 11, 7]\n"
     ]
    },
    {
     "data": {
      "image/png": "[encoded data removed]",
      "text/plain": [
       "<matplotlib.figure.Figure at 0x7f41715fd410>"
      ]
     },
     "metadata": {},
     "output_type": "display_data"
    }
   ],
   "source": [
    "# generate data\n",
    "# list of points \n",
    "import numpy as np \n",
    "import matplotlib.pyplot as plt\n",
    "from scipy.spatial.distance import cdist\n",
    "np.random.seed(2)\n",
    "\n",
    "means = [[2, 2], [4, 2]]\n",
    "cov = [[.3, .2], [.2, .3]]\n",
    "N = 10\n",
    "X0 = np.random.multivariate_normal(means[0], cov, N).T\n",
    "X1 = np.random.multivariate_normal(means[1], cov, N).T\n",
    "\n",
    "X = np.concatenate((X0, X1), axis = 1)\n",
    "y = np.concatenate((np.ones((1, N)), -1*np.ones((1, N))), axis = 1)\n",
    "# Xbar \n",
    "X = np.concatenate((np.ones((1, 2*N)), X), axis = 0)\n",
    "\n",
    "\n",
    "def h(w, x):    \n",
    "    return np.sign(np.dot(w.T, x))\n",
    "\n",
    "def has_converged(X, y, w):\n",
    "    \n",
    "    return np.array_equal(h(w, X), y) #True if h(w, X) == y else False\n",
    "\n",
    "def perceptron(X, y, w_init):\n",
    "    w = [w_init]\n",
    "    N = X.shape[1]\n",
    "    mis_points = []\n",
    "    while True:\n",
    "        # mix data \n",
    "        mix_id = np.random.permutation(N)\n",
    "        for i in range(N):\n",
    "            xi = X[:, mix_id[i]].reshape(3, 1)\n",
    "            yi = y[0, mix_id[i]]\n",
    "            if h(w[-1], xi)[0] != yi:\n",
    "                mis_points.append(mix_id[i])\n",
    "                w_new = w[-1] + yi*xi \n",
    "\n",
    "                w.append(w_new)\n",
    "                \n",
    "        if has_converged(X, y, w[-1]):\n",
    "            break\n",
    "    return (w, mis_points)\n",
    "\n",
    "d = X.shape[0]\n",
    "w_init = np.random.randn(d, 1)\n",
    "(w, m) = perceptron(X, y, w_init)\n",
    "print(m)\n",
    "# print(w)\n",
    "# print(len(w))\n",
    "\n",
    "def draw_line(w):\n",
    "    w0, w1, w2 = w[0], w[1], w[2]\n",
    "    if w2 != 0:\n",
    "        x11, x12 = -100, 100\n",
    "        return plt.plot([x11, x12], [-(w1*x11 + w0)/w2, -(w1*x12 + w0)/w2], 'k')\n",
    "    else:\n",
    "        x10 = -w0/w1\n",
    "        return plt.plot([x10, x10], [-100, 100], 'k')\n",
    "\n",
    "## GD example\n",
    "import matplotlib.animation as animation\n",
    "from matplotlib.animation import FuncAnimation \n",
    "def viz_alg_1d_2(w):\n",
    "    it = len(w)    \n",
    "       \n",
    "    fig, ax = plt.subplots(figsize=(5, 5))  \n",
    "    \n",
    "    def update(i):\n",
    "        ani = plt.cla()\n",
    "        #points\n",
    "        ani = plt.plot(X0[0, :], X0[1, :], 'b^', markersize = 8, alpha = .8)\n",
    "        ani = plt.plot(X1[0, :], X1[1, :], 'ro', markersize = 8, alpha = .8)\n",
    "        ani = plt.axis([0 , 6, -2, 4])\n",
    "        i2 =  i if i < it else it-1\n",
    "        ani = draw_line(w[i2])\n",
    "        if i < it-1:\n",
    "            # print(X[1, m[i]], X[2, ])\n",
    "            circle = plt.Circle((X[1, m[i]], X[2, m[i]]), 0.15, color='k', fill = False)\n",
    "            ax.add_artist(circle)\n",
    "        # hid axis \n",
    "        cur_axes = plt.gca()\n",
    "        cur_axes.axes.get_xaxis().set_ticks([])\n",
    "        cur_axes.axes.get_yaxis().set_ticks([])\n",
    "\n",
    "        label = 'PLA: iter %d/%d' %(i2, it-1)\n",
    "        ax.set_xlabel(label)\n",
    "        return ani, ax \n",
    "        \n",
    "    anim = FuncAnimation(fig, update, frames=np.arange(0, it + 2), interval=1000)\n",
    "    anim.save('pla_vis.gif', dpi = 100, writer = 'imagemagick')\n",
    "    plt.show()\n",
    "    \n",
    "# x = np.asarray(x)\n",
    "viz_alg_1d_2(w)"
   ]
  },
  {
   "cell_type": "code",
   "execution_count": 229,
   "metadata": {
    "collapsed": true
   },
   "outputs": [],
   "source": [
    "from __future__ import print_function \n",
    "import numpy as np \n",
    "import matplotlib.pyplot as plt\n",
    "np.random.seed(2)\n",
    "\n",
    "means = [[-1, 0], [1, 0]]\n",
    "cov = [[.3, .2], [.2, .3]]\n",
    "N = 10\n",
    "X0 = np.random.multivariate_normal(means[0], cov, N)\n",
    "X1 = np.random.multivariate_normal(means[1], cov, N)\n",
    "\n",
    "X = np.concatenate((X0, X1), axis = 0)\n",
    "y = np.concatenate((np.ones(N), -1*np.ones(N)))"
   ]
  },
  {
   "cell_type": "code",
   "execution_count": 230,
   "metadata": {},
   "outputs": [
    {
     "name": "stdout",
     "output_type": "stream",
     "text": [
      "(20, 2)\n"
     ]
    }
   ],
   "source": [
    "print X.shape"
   ]
  },
  {
   "cell_type": "code",
   "execution_count": 232,
   "metadata": {},
   "outputs": [
    {
     "name": "stdout",
     "output_type": "stream",
     "text": [
      "[ 0.57681305 -2.52654515  1.61348129]\n"
     ]
    }
   ],
   "source": [
    "def predict(w, X):    \n",
    "    return np.sign(X.dot(w))\n",
    "\n",
    "def perceptron(X, y, w_init):\n",
    "    w = w_init\n",
    "    while True:\n",
    "        pred = predict(w, X)\n",
    "        # find indexes of misclassified points\n",
    "        mis_idxs = np.where(np.equal(pred, y) == False)[0]\n",
    "        # number of misclassified points\n",
    "        num_mis = mis_idxs.shape[0]\n",
    "        if num_mis == 0:\n",
    "            return w\n",
    "        # random pick one misclassified point \n",
    "        random_id = np.random.choice(mis_idxs, 1)[0]\n",
    "        # update w \n",
    "        w = w + y[random_id]*X[random_id]\n",
    "\n",
    "\n",
    "i = 73\n",
    "np.random.seed(i)\n",
    "\n",
    "# Xbar \n",
    "Xbar = np.concatenate((np.ones((2*N, 1)), X), axis = 1)\n",
    "d = Xbar.shape[1]\n",
    "w_init = np.random.randn(d)\n",
    "w = perceptron(Xbar, y, w_init)\n",
    "\n",
    "print w\n",
    "\n"
   ]
  },
  {
   "cell_type": "code",
   "execution_count": null,
   "metadata": {
    "collapsed": true
   },
   "outputs": [],
   "source": [
    "def predict(w, X):    \n",
    "    return np.sign(X.dot(w))\n",
    "\n",
    "def viperceptron(X, y, w_init):\n",
    "    w = w_init\n",
    "    w_hist = [w]\n",
    "    mis_points = []\n",
    "    while True:\n",
    "        pred = predict(w, X)\n",
    "        mis_idxs = np.where(np.equal(pred, y) == False)[0]\n",
    "        num_mis = mis_idxs.shape[0]\n",
    "        if num_mis == 0:\n",
    "            return (w_hist, mis_points)\n",
    "        # random pick one misclassified point \n",
    "        random_id = np.random.choice(mis_idxs, 1)[0]\n",
    "        mis_points.append(random_id)\n",
    "        w = w + y[random_id]*X[random_id]\n",
    "        w_hist.append(w)\n",
    "\n",
    "i = 73\n",
    "np.random.seed(i)\n",
    "\n",
    "\n",
    "# Xbar \n",
    "Xbar = np.concatenate((np.ones((2*N, 1)), X), axis = 1)\n",
    "d = Xbar.shape[1]\n",
    "w_init = np.random.randn(d)\n",
    "w_hist, m = viperceptron(Xbar, y, w_init)\n",
    "\n",
    "print i, len(w_hist)\n",
    "\n"
   ]
  },
  {
   "cell_type": "code",
   "execution_count": 223,
   "metadata": {},
   "outputs": [
    {
     "data": {
      "image/png": "[encoded data removed]",
      "text/plain": [
       "<matplotlib.figure.Figure at 0x108042d90>"
      ]
     },
     "metadata": {},
     "output_type": "display_data"
    }
   ],
   "source": [
    "\n",
    "from matplotlib.backends.backend_pdf import PdfPages\n",
    "\n",
    "i = 73\n",
    "np.random.seed(i)\n",
    "Xbar = np.concatenate((np.ones((2*N, 1)), X), axis = 1)\n",
    "d = Xbar.shape[1]\n",
    "w_init = np.random.randn(d)\n",
    "w_hist, m = viperceptron(Xbar, y, w_init)\n",
    "# print i, len(w_hist)\n",
    "    \n",
    "    \n",
    "def draw_line(plt, w):\n",
    "    w0, w1, w2 = w[0], w[1], w[2]\n",
    "    if w2 != 0:\n",
    "        x11, x12 = -100, 100\n",
    "        return plt.plot([x11, x12], [-(w1*x11 + w0)/w2, -(w1*x12 + w0)/w2], 'k')\n",
    "    else:\n",
    "        x10 = -w0/w1\n",
    "        return plt.plot([x10, x10], [-100, 100], 'k')\n",
    "\n",
    "nrows = 2 \n",
    "ncols = 3\n",
    "width = 4*ncols \n",
    "height = 3.5*nrows\n",
    "\n",
    "filename = 'pla_visualize.pdf'\n",
    "with PdfPages(filename) as pdf: \n",
    "    plt.close('all')\n",
    "    fig,axs=plt.subplots(nrows,ncols,figsize=(width,height)) \n",
    "    ids = range(7)\n",
    "\n",
    "    for i, k in enumerate(ids[1:]):\n",
    "        r = i//ncols \n",
    "        c = i%ncols \n",
    "        str0 = 'iter {}/{}'.format(i+1, len(ids)-1)\n",
    "#         if nrows > 1:\n",
    "        axs[r, c].set_title(str0)\n",
    "        axs[r, c].plot(X0[:, 0], X0[:, 1], 'bs', markersize = 8, alpha = .8)\n",
    "        axs[r, c].plot(X1[:, 0], X1[:, 1], 'ro', markersize = 8, alpha = .8)\n",
    "        axs[r, c].plot(0, 0, 'k.', markersize = 8, alpha = .8)\n",
    "        axs[r, c].axis([0 , 6, -2, 4])\n",
    "        draw_line(axs[r, c], w_hist[k])\n",
    "        wx, wy = w_hist[k][1], w_hist[k][2]\n",
    "        axs[r, c].annotate('', xy=(wx, wy), xytext=(0, 0),\n",
    "                        arrowprops=dict(arrowstyle=\"simple\", connectionstyle=\"arc3\", ec = 'green', fc = 'green'))\n",
    "        if k < nrows*ncols:\n",
    "            xmis = X[m[k], 0]\n",
    "            ymis = X[m[k], 1]\n",
    "#                 circle around the misclassified point\n",
    "            circle = plt.Circle((xmis, ymis), 0.25, color='k', fill = False)\n",
    "            axs[r, c].add_artist(circle)\n",
    "#                 vector to xmis\n",
    "            axs[r, c].annotate('', xy=(xmis, ymis), xytext=(0, 0),\n",
    "                        arrowprops=dict(arrowstyle=\"simple\", connectionstyle=\"arc3\", ec = 'orange', fc = 'orange'))\n",
    "\n",
    "            if m[k] > 10:\n",
    "#                 New w if the misclassified point is in red \n",
    "                axs[r, c].annotate('', xytext=(0, 0), xy=(wx - xmis, wy-ymis),\n",
    "                        arrowprops=dict(arrowstyle=\"simple\", connectionstyle=\"arc3\", ec = 'red', fc = 'red'))\n",
    "#                     axs[r, c].annotate('local max', xy=(2, 1), xytext=(3, 1.5),\n",
    "#                         arrowprops=dict(facecolor='black', shrink=0.01, ''),\n",
    "#                             )\n",
    "            else: # the misclassified point is in blue\n",
    "                axs[r, c].annotate('', xytext=(0, 0), xy=(wx + xmis, wy+ymis),\n",
    "                        arrowprops=dict(arrowstyle=\"simple\", connectionstyle=\"arc3\", ec = 'red', fc = 'red'))\n",
    "\n",
    "\n",
    "\n",
    "\n",
    "        axs[r, c].axis('scaled')\n",
    "        axs[r, c].axis([-3, 3, -2, 3])\n",
    "    pdf.savefig(bbox_inches = 'tight')\n",
    "    plt.show()"
   ]
  },
  {
   "cell_type": "code",
   "execution_count": null,
   "metadata": {
    "collapsed": true
   },
   "outputs": [],
   "source": []
  },
  {
   "cell_type": "code",
   "execution_count": null,
   "metadata": {
    "collapsed": true
   },
   "outputs": [],
   "source": []
  }
 ],
 "metadata": {
  "kernelspec": {
   "display_name": "Python 2",
   "language": "python",
   "name": "python2"
  },
  "language_info": {
   "codemirror_mode": {
    "name": "ipython",
    "version": 2
   },
   "file_extension": ".py",
   "mimetype": "text/x-python",
   "name": "python",
   "nbconvert_exporter": "python",
   "pygments_lexer": "ipython2",
   "version": "2.7.13"
  }
 },
 "nbformat": 4,
 "nbformat_minor": 2
}
