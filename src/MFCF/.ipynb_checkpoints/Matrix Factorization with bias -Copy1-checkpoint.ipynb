{
 "cells": [
  {
   "cell_type": "markdown",
   "metadata": {
    "collapsed": true
   },
   "source": [
    "# Matrix Factorization"
   ]
  },
  {
   "cell_type": "code",
   "execution_count": 13,
   "metadata": {},
   "outputs": [
    {
     "name": "stdout",
     "output_type": "stream",
     "text": [
      "iter = 100 , loss = 0.677157914841 , RMSE train = 0.645937545174\n",
      "iter = 200 , loss = 0.677157375855 , RMSE train = 0.645939323309\n",
      "iter = 300 , loss = 0.677157375821 , RMSE train = 0.64593932342\n",
      "iter = 400 , loss = 0.677157375821 , RMSE train = 0.64593932342\n",
      "iter = 500 , loss = 0.677157375821 , RMSE train = 0.64593932342\n",
      "iter = 600 , loss = 0.677157375821 , RMSE train = 0.64593932342\n",
      "iter = 700 , loss = 0.677157375821 , RMSE train = 0.64593932342\n",
      "iter = 800 , loss = 0.677157375821 , RMSE train = 0.64593932342\n",
      "iter = 900 , loss = 0.677157375821 , RMSE train = 0.64593932342\n",
      "iter = 1000 , loss = 0.677157375821 , RMSE train = 0.64593932342\n",
      "0.64593932342\n"
     ]
    }
   ],
   "source": [
    "import pandas as pd \n",
    "import numpy as np\n",
    "from sklearn.metrics.pairwise import cosine_similarity\n",
    "from scipy import sparse \n",
    "\n",
    "class MF(object):\n",
    "    \"\"\"docstring for CF\"\"\"\n",
    "    def __init__(self, Y_data, K, lam = 0.1, Xinit = None, Winit = None, \n",
    "                 learning_rate = 0.5, max_iter = 1000, print_every = 100):\n",
    "        self.Y_data = Y_data\n",
    "        self.K      = K    # \n",
    "        self.lam    = lam  # regularization parameter \n",
    "        self.learning_rate = learning_rate\n",
    "        self.max_iter      = max_iter # maximum number of iterations \n",
    "        self.print_every = print_every # display loss+ RMSE on training data after each ? iters \n",
    "        self.n_users = int(np.max(Y_data[:, 0])) + 1 \n",
    "        self.n_items = int(np.max(Y_data[:, 1])) + 1\n",
    "        self.X = np.random.randn(self.n_items, K) if Xinit is None else Xinit \n",
    "        self.W = np.random.randn(K, self.n_users) if Winit is None else Winit \n",
    "        self.b = np.random.randn(self.n_items) # item biases\n",
    "        self.d = np.random.randn(self.n_users) # user biases\n",
    "        self.n_ratings = Y_data.shape[0] # number of known ratings\n",
    "            \n",
    "    def loss(self):\n",
    "        L = 0 \n",
    "        for i in xrange(self.n_ratings):\n",
    "            # user_id, item_id, rating\n",
    "            n, m, rating = int(self.Y_data[i, 0]), int(self.Y_data[i, 1]), self.Y_data[i, 2]\n",
    "            L += 0.5*(self.X[m].dot(self.W[:, n]) + self.b[m] + self.d[n] - rating)**2    \n",
    "        \n",
    "        L /= self.n_ratings\n",
    "        # regularization, don't ever forget this \n",
    "        L += 0.5*self.lam*(np.sum(self.X**2) + np.sum(self.W**2))\n",
    "        return L \n",
    "\n",
    "    \n",
    "    def get_items_rated_by_user(self, user_id):\n",
    "        \"\"\"\n",
    "        get all items rated by user n, and the corresponding ratings\n",
    "        \"\"\"\n",
    "        ids      = np.where(self.Y_data[:,0] == user_id)[0] \n",
    "        item_ids = self.Y_data[ids, 1].astype(np.int32) # index starts from 0 \n",
    "        ratings  = self.Y_data[ids, 2]\n",
    "        return (item_ids, ratings)\n",
    "        \n",
    "        \n",
    "    def get_users_who_rate_item(self, item_id):\n",
    "        \"\"\"\n",
    "        get all users who rated item m and get the corresponding ratings\n",
    "        \"\"\"\n",
    "        ids      = np.where(self.Y_data[:,1] == item_id)[0] \n",
    "        user_ids = self.Y_data[ids, 0].astype(np.int32)\n",
    "        ratings  = self.Y_data[ids, 2]\n",
    "        return (user_ids, ratings)\n",
    "        \n",
    "    def updateX(self): # and b \n",
    "        for m in xrange(self.n_items):\n",
    "            user_ids, ratings = self.get_users_who_rate_item(m)\n",
    "\n",
    "            Wm = self.W[:, user_ids]\n",
    "            dm = self.d[user_ids]\n",
    "            for i in range(30):\n",
    "                xm = self.X[m, :]\n",
    "                error = xm.dot(Wm) + self.b[m] + dm  - ratings \n",
    "                grad_xm = error.dot(Wm.T)/self.n_ratings + self.lam*xm\n",
    "                grad_bm = np.sum(error)/self.n_ratings# + self.lam*self.b[m]\n",
    "                self.X[m, :] -= self.learning_rate*grad_xm.reshape(-1)\n",
    "                self.b[m]    -= self.learning_rate*grad_bm\n",
    "    \n",
    "    def updateW(self): # and d \n",
    "        for n in xrange(self.n_users):\n",
    "            item_ids, ratings = self.get_items_rated_by_user(n)\n",
    "            Xn = self.X[item_ids, :]\n",
    "            bn = self.b[item_ids]\n",
    "            for i in range(30):\n",
    "                wn = self.W[:, n]\n",
    "                error = Xn.dot(wn) + bn + self.d[n] - ratings\n",
    "                grad_wn = Xn.T.dot(error)/self.n_ratings + self.lam*wn\n",
    "                grad_dn = np.sum(error)/self.n_ratings# + self.lam*self.d[n]\n",
    "                self.W[:, n] -= self.learning_rate*grad_wn.reshape(-1)\n",
    "                self.d[n]    -= self.learning_rate*grad_dn\n",
    "    \n",
    "    def fit(self):\n",
    "        for it in xrange(self.max_iter):\n",
    "            self.updateW()\n",
    "            self.updateX()\n",
    "            if (it + 1) % self.print_every == 0:\n",
    "                rmse_train = self.evaluate_RMSE(self.Y_data)\n",
    "                print 'iter =', it + 1, ', loss =', self.loss(), ', RMSE train =', rmse_train\n",
    "    \n",
    "    def pred(self, u, i):\n",
    "        \"\"\" \n",
    "        predict the rating of user u for item i \n",
    "        if you need the un\n",
    "        \"\"\"\n",
    "        u, i = int(u), int(i)\n",
    "        pred = self.X[i, :].dot(self.W[:, u]) + self.b[i] + self.d[u]# + bias\n",
    "        return max(0, min(5, pred)) # pred should be between 0 and 5 \n",
    "    \n",
    "    def evaluate_RMSE(self, rate_test):\n",
    "        n_tests = rate_test.shape[0] # number of test \n",
    "        SE = 0 # squared error\n",
    "        for n in xrange(n_tests):\n",
    "            pred = self.pred(rate_test[n, 0], rate_test[n, 1])\n",
    "            SE += (pred - rate_test[n, 2])**2 \n",
    "\n",
    "        RMSE = np.sqrt(SE/n_tests)\n",
    "        return RMSE\n",
    "        \n",
    "r_cols = ['user_id', 'item_id', 'rating']\n",
    "ratings = pd.read_csv('ex.dat', sep = ' ', names = r_cols, encoding='latin-1')\n",
    "Y_data = ratings.as_matrix()\n",
    "\n",
    "rs = MF(Y_data, K = 3, max_iter = 1000, print_every = 100, lam = 0.1)\n",
    "rs.fit()\n",
    "rs.pred(6, 1)\n",
    "print rs.evaluate_RMSE(Y_data)"
   ]
  },
  {
   "cell_type": "markdown",
   "metadata": {},
   "source": [
    "# Áp dụng lên MovieLens 100k"
   ]
  },
  {
   "cell_type": "code",
   "execution_count": 14,
   "metadata": {
    "collapsed": true
   },
   "outputs": [],
   "source": [
    "r_cols = ['user_id', 'movie_id', 'rating', 'unix_timestamp']\n",
    "\n",
    "ratings_base = pd.read_csv('ml-100k/ua.base', sep='\\t', names=r_cols, encoding='latin-1')\n",
    "ratings_test = pd.read_csv('ml-100k/ua.test', sep='\\t', names=r_cols, encoding='latin-1')\n",
    "\n",
    "rate_train = ratings_base.as_matrix()\n",
    "rate_test = ratings_test.as_matrix()\n",
    "\n",
    "# indices start from 0\n",
    "rate_train[:, :2] -= 1\n",
    "rate_test[:, :2] -= 1"
   ]
  },
  {
   "cell_type": "code",
   "execution_count": 15,
   "metadata": {},
   "outputs": [
    {
     "name": "stdout",
     "output_type": "stream",
     "text": [
      "iter = 1 , loss = 1.40181679434 , RMSE train = 1.57526824216\n",
      "iter = 2 , loss = 0.831774570534 , RMSE train = 1.2815700525\n",
      "iter = 3 , loss = 0.679889171664 , RMSE train = 1.16253789509\n",
      "iter = 4 , loss = 0.603502366255 , RMSE train = 1.09660387257\n",
      "iter = 5 , loss = 0.557641460472 , RMSE train = 1.05471294971\n",
      "iter = 6 , loss = 0.527239162579 , RMSE train = 1.0259256585\n",
      "iter = 7 , loss = 0.505785561728 , RMSE train = 1.00501366408\n",
      "iter = 8 , loss = 0.489976927414 , RMSE train = 0.989273671875\n",
      "iter = 9 , loss = 0.477946245515 , RMSE train = 0.97711350176\n",
      "iter = 10 , loss = 0.468556557715 , RMSE train = 0.967514752226\n",
      "iter = 11 , loss = 0.461076753436 , RMSE train = 0.959791825781\n",
      "iter = 12 , loss = 0.455016658309 , RMSE train = 0.953483488937\n",
      "iter = 13 , loss = 0.450036424619 , RMSE train = 0.948269123145\n",
      "iter = 14 , loss = 0.445893747269 , RMSE train = 0.943909642666\n",
      "iter = 15 , loss = 0.44241168211 , RMSE train = 0.940228115693\n",
      "iter = 16 , loss = 0.439458293238 , RMSE train = 0.937095703833\n",
      "iter = 17 , loss = 0.436933382983 , RMSE train = 0.934410891275\n",
      "iter = 18 , loss = 0.434759610686 , RMSE train = 0.932093759927\n",
      "iter = 19 , loss = 0.432876410519 , RMSE train = 0.930082023648\n",
      "iter = 20 , loss = 0.431235739486 , RMSE train = 0.92832641454\n",
      "iter = 21 , loss = 0.429799048756 , RMSE train = 0.926787013174\n",
      "iter = 22 , loss = 0.428535089101 , RMSE train = 0.925431136473\n",
      "iter = 23 , loss = 0.427418295469 , RMSE train = 0.924232109201\n",
      "iter = 24 , loss = 0.426427580461 , RMSE train = 0.923167031087\n",
      "iter = 25 , loss = 0.425545421049 , RMSE train = 0.922217579933\n",
      "iter = 26 , loss = 0.424757158677 , RMSE train = 0.921368921187\n",
      "iter = 27 , loss = 0.424050456749 , RMSE train = 0.92060788074\n",
      "iter = 28 , loss = 0.42341487568 , RMSE train = 0.91992334594\n",
      "iter = 29 , loss = 0.422841536837 , RMSE train = 0.919305859894\n",
      "iter = 30 , loss = 0.422322854389 , RMSE train = 0.918746493824\n",
      "\n",
      "Matrix Factorization CF, RMSE = 0.976834513598\n"
     ]
    }
   ],
   "source": [
    "rs = MF(rate_train, K = 50, lam = .01, print_every = 1, learning_rate = 50, max_iter = 30)\n",
    "rs.fit()\n",
    "# evaluate on test data\n",
    "RMSE = rs.evaluate_RMSE(rate_test)\n",
    "print '\\nMatrix Factorization CF, RMSE =', RMSE"
   ]
  },
  {
   "cell_type": "code",
   "execution_count": null,
   "metadata": {
    "collapsed": true
   },
   "outputs": [],
   "source": []
  }
 ],
 "metadata": {
  "kernelspec": {
   "display_name": "Python 2",
   "language": "python",
   "name": "python2"
  },
  "language_info": {
   "codemirror_mode": {
    "name": "ipython",
    "version": 2
   },
   "file_extension": ".py",
   "mimetype": "text/x-python",
   "name": "python",
   "nbconvert_exporter": "python",
   "pygments_lexer": "ipython2",
   "version": "2.7.13"
  }
 },
 "nbformat": 4,
 "nbformat_minor": 2
}
